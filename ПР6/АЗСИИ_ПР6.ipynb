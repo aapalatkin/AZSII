{
  "nbformat": 4,
  "nbformat_minor": 0,
  "metadata": {
    "colab": {
      "provenance": [],
      "authorship_tag": "ABX9TyPZlEPezChm2gEUvw2xgwBk"
    },
    "kernelspec": {
      "name": "python3",
      "display_name": "Python 3"
    },
    "language_info": {
      "name": "python"
    }
  },
  "cells": [
    {
      "cell_type": "code",
      "execution_count": 2,
      "metadata": {
        "colab": {
          "base_uri": "https://localhost:8080/"
        },
        "id": "bc4s4fa8LQ8F",
        "outputId": "d7d03157-2709-4920-d465-b78772183b29"
      },
      "outputs": [
        {
          "output_type": "stream",
          "name": "stderr",
          "text": [
            "/usr/local/lib/python3.11/dist-packages/keras/src/layers/reshaping/flatten.py:37: UserWarning: Do not pass an `input_shape`/`input_dim` argument to a layer. When using Sequential models, prefer using an `Input(shape)` object as the first layer in the model instead.\n",
            "  super().__init__(**kwargs)\n"
          ]
        },
        {
          "output_type": "stream",
          "name": "stdout",
          "text": [
            "Epoch 1/5\n",
            "\u001b[1m1875/1875\u001b[0m \u001b[32m━━━━━━━━━━━━━━━━━━━━\u001b[0m\u001b[37m\u001b[0m \u001b[1m9s\u001b[0m 4ms/step - accuracy: 0.8826 - loss: 0.4222\n",
            "Epoch 2/5\n",
            "\u001b[1m1875/1875\u001b[0m \u001b[32m━━━━━━━━━━━━━━━━━━━━\u001b[0m\u001b[37m\u001b[0m \u001b[1m6s\u001b[0m 3ms/step - accuracy: 0.9630 - loss: 0.1247\n",
            "Epoch 3/5\n",
            "\u001b[1m1875/1875\u001b[0m \u001b[32m━━━━━━━━━━━━━━━━━━━━\u001b[0m\u001b[37m\u001b[0m \u001b[1m8s\u001b[0m 4ms/step - accuracy: 0.9769 - loss: 0.0762\n",
            "Epoch 4/5\n",
            "\u001b[1m1875/1875\u001b[0m \u001b[32m━━━━━━━━━━━━━━━━━━━━\u001b[0m\u001b[37m\u001b[0m \u001b[1m6s\u001b[0m 3ms/step - accuracy: 0.9833 - loss: 0.0560\n",
            "Epoch 5/5\n",
            "\u001b[1m1875/1875\u001b[0m \u001b[32m━━━━━━━━━━━━━━━━━━━━\u001b[0m\u001b[37m\u001b[0m \u001b[1m8s\u001b[0m 4ms/step - accuracy: 0.9872 - loss: 0.0433\n"
          ]
        },
        {
          "output_type": "stream",
          "name": "stderr",
          "text": [
            "WARNING:absl:You are saving your model as an HDF5 file via `model.save()` or `keras.saving.save_model(model)`. This file format is considered legacy. We recommend using instead the native Keras format, e.g. `model.save('my_model.keras')` or `keras.saving.save_model(model, 'my_model.keras')`. \n",
            "/usr/local/lib/python3.11/dist-packages/keras/src/layers/convolutional/base_conv.py:107: UserWarning: Do not pass an `input_shape`/`input_dim` argument to a layer. When using Sequential models, prefer using an `Input(shape)` object as the first layer in the model instead.\n",
            "  super().__init__(activity_regularizer=activity_regularizer, **kwargs)\n"
          ]
        },
        {
          "output_type": "stream",
          "name": "stdout",
          "text": [
            "Epoch 1/5\n",
            "\u001b[1m1875/1875\u001b[0m \u001b[32m━━━━━━━━━━━━━━━━━━━━\u001b[0m\u001b[37m\u001b[0m \u001b[1m44s\u001b[0m 23ms/step - accuracy: 0.9115 - loss: 0.2973\n",
            "Epoch 2/5\n",
            "\u001b[1m1875/1875\u001b[0m \u001b[32m━━━━━━━━━━━━━━━━━━━━\u001b[0m\u001b[37m\u001b[0m \u001b[1m82s\u001b[0m 23ms/step - accuracy: 0.9841 - loss: 0.0539\n",
            "Epoch 3/5\n",
            "\u001b[1m1875/1875\u001b[0m \u001b[32m━━━━━━━━━━━━━━━━━━━━\u001b[0m\u001b[37m\u001b[0m \u001b[1m85s\u001b[0m 24ms/step - accuracy: 0.9902 - loss: 0.0296\n",
            "Epoch 4/5\n",
            "\u001b[1m1875/1875\u001b[0m \u001b[32m━━━━━━━━━━━━━━━━━━━━\u001b[0m\u001b[37m\u001b[0m \u001b[1m79s\u001b[0m 23ms/step - accuracy: 0.9942 - loss: 0.0183\n",
            "Epoch 5/5\n",
            "\u001b[1m1875/1875\u001b[0m \u001b[32m━━━━━━━━━━━━━━━━━━━━\u001b[0m\u001b[37m\u001b[0m \u001b[1m81s\u001b[0m 22ms/step - accuracy: 0.9959 - loss: 0.0132\n"
          ]
        },
        {
          "output_type": "stream",
          "name": "stderr",
          "text": [
            "WARNING:absl:You are saving your model as an HDF5 file via `model.save()` or `keras.saving.save_model(model)`. This file format is considered legacy. We recommend using instead the native Keras format, e.g. `model.save('my_model.keras')` or `keras.saving.save_model(model, 'my_model.keras')`. \n"
          ]
        },
        {
          "output_type": "stream",
          "name": "stdout",
          "text": [
            "MLP точность на противоречивых данных: 0.10140000283718109\n",
            "CNN точность на противоречивых данных MLP: 0.9641000032424927\n",
            "MLP точность на противоречивых данных CNN: 0.9366999864578247\n"
          ]
        }
      ],
      "source": [
        "import tensorflow as tf\n",
        "import numpy as np\n",
        "from tensorflow.keras.datasets import mnist\n",
        "from tensorflow.keras.models import Sequential\n",
        "from tensorflow.keras.layers import Dense, Flatten, Conv2D, MaxPooling2D\n",
        "from tensorflow.keras.utils import to_categorical\n",
        "\n",
        "# Загрузка данных MNIST\n",
        "(train_imgs, train_lbls), (test_images, test_lbls) = mnist.load_data()\n",
        "\n",
        "# Нормализация данных\n",
        "train_images = train_imgs / 255.0\n",
        "test_images = test_images / 255.0\n",
        "\n",
        "# Преобразование меток в one-hot encoding\n",
        "train_lbls = to_categorical(train_lbls)\n",
        "test_lbls = to_categorical(test_lbls)\n",
        "\n",
        "# Модель 1: Простая полносвязная нейронная сеть\n",
        "mlp_model = Sequential([\n",
        "    Flatten(input_shape=(28, 28)),\n",
        "    Dense(128, activation='relu'),\n",
        "    Dense(10, activation='softmax')\n",
        "])\n",
        "# Компиляция модели\n",
        "mlp_model.compile(optimizer='adam', loss='categorical_crossentropy', metrics=['accuracy'])\n",
        "\n",
        "# Обучение модели\n",
        "mlp_model.fit(train_imgs, train_lbls, epochs=5)\n",
        "\n",
        "# Сохранение модели\n",
        "mlp_model.save('mlp_mnist.h5')\n",
        "\n",
        "# Модель 2: Свёрточная нейронная сеть (CNN)\n",
        "cnn_model = Sequential([\n",
        "    Conv2D(32, (3, 3), activation='relu', input_shape=(28, 28, 1)),\n",
        "    MaxPooling2D(pool_size=(2, 2)),\n",
        "    Flatten(),\n",
        "    Dense(128, activation='relu'),\n",
        "    Dense(10, activation='softmax')\n",
        "])\n",
        "# Компиляция модели\n",
        "cnn_model.compile(optimizer='adam', loss='categorical_crossentropy', metrics=['accuracy'])\n",
        "\n",
        "# Обучение модели\n",
        "cnn_model.fit(train_imgs[..., np.newaxis], train_lbls, epochs=5)\n",
        "\n",
        "# Сохранение модели\n",
        "cnn_model.save('cnn_mnist.h5')\n",
        "\n",
        "# Функция FGSM атаки\n",
        "def fgsm(image, epsilon, gradient):\n",
        "    perturbed = image + epsilon * np.sign(gradient)\n",
        "    return np.clip(perturbed, 0, 1)\n",
        "\n",
        "# Генерация противоречивых примеров для первой модели\n",
        "def create_adversarial_sample(model, img, lbl, epsilon):\n",
        "    img_tensor = tf.convert_to_tensor(img.reshape(1, 28, 28, 1))\n",
        "    lbl_tensor = tf.convert_to_tensor(lbl if len(lbl.shape) == 1 else np.argmax(lbl))\n",
        "\n",
        "# Вычисление градиента\n",
        "    with tf.GradientTape() as tape:\n",
        "        tape.watch(img_tensor)\n",
        "        prediction = model(img_tensor)\n",
        "        loss = tf.keras.losses.categorical_crossentropy(lbl_tensor[None], prediction)\n",
        "\n",
        "    gradient = tape.gradient(loss, img_tensor)\n",
        "    return fgsm(img_tensor.numpy(), epsilon, gradient.numpy()).reshape(28, 28, 1)\n",
        "\n",
        "def create_adversarial_set(model, images, labels, epsilon):\n",
        "    adversarial_set = []\n",
        "    for img, lbl in zip(images, labels):\n",
        "        adv_img = create_adversarial_sample(model, img, lbl, epsilon)\n",
        "        adversarial_set.append(adv_img.reshape(28, 28))\n",
        "\n",
        "    return np.array(adversarial_set)\n",
        "\n",
        "# Генерация противоречивых примеров для первой модели\n",
        "epsilon = 0.1\n",
        "adv_imgs_mlp = create_adversarial_set(mlp_model, test_images, test_lbls, epsilon)\n",
        "\n",
        "# Оценка первой модели на противоречивых примерах\n",
        "mlp_loss, mlp_acc = mlp_model.evaluate(adv_imgs_mlp, test_lbls, verbose=0)\n",
        "print(f\"MLP точность на противоречивых данных: {mlp_acc}\")\n",
        "\n",
        "# Оценка второй модели на противоречивых примерах (перенос атаки)\n",
        "adv_imgs_mlp_cnn = adv_imgs_mlp[..., np.newaxis]\n",
        "cnn_loss, cnn_acc = cnn_model.evaluate(adv_imgs_mlp_cnn, test_lbls, verbose=0)\n",
        "print(f\"CNN точность на противоречивых данных MLP: {cnn_acc}\")\n",
        "\n",
        "# Генерация противоречивых примеров для второй модели\n",
        "adv_imgs_cnn = create_adversarial_set(cnn_model, test_images[..., np.newaxis], test_lbls, epsilon)\n",
        "\n",
        "# Оценка первой модели на противоречивых примерах второй модели\n",
        "adv_imgs_cnn_mlp = adv_imgs_cnn.reshape(-1, 28, 28)\n",
        "mlp_loss_cnn, mlp_acc_cnn = mlp_model.evaluate(adv_imgs_cnn_mlp, test_lbls, verbose=0)\n",
        "print(f\"MLP точность на противоречивых данных CNN: {mlp_acc_cnn}\")\n"
      ]
    },
    {
      "cell_type": "markdown",
      "source": [
        "Вывод: анализ показал, что первая модель, для которой были сгенерированы примеры методом FGSM, продемонстрировала значительное снижение точности, что указывает на её высокую уязвимость к такой атаке. В то же время вторая модель оказалась более устойчивой: её точность снизилась незначительно, что свидетельствует о меньшей восприимчивости к переносу атак, разработанных для другой модели."
      ],
      "metadata": {
        "id": "jvTUaGUSXlR0"
      }
    }
  ]
}