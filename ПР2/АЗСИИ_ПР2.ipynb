{
  "nbformat": 4,
  "nbformat_minor": 0,
  "metadata": {
    "colab": {
      "provenance": [],
      "mount_file_id": "1Wb6A5BpEgleDODI7BNnKbbLmnl_0mgCN",
      "authorship_tag": "ABX9TyMonroMII/dXEGskLZuQlzP"
    },
    "kernelspec": {
      "name": "python3",
      "display_name": "Python 3"
    },
    "language_info": {
      "name": "python"
    }
  },
  "cells": [
    {
      "cell_type": "code",
      "execution_count": null,
      "metadata": {
        "colab": {
          "base_uri": "https://localhost:8080/"
        },
        "id": "xdpryZoTfSZt",
        "outputId": "adc550be-11e0-4dd4-fc0b-025def3f65de"
      },
      "outputs": [
        {
          "output_type": "stream",
          "name": "stderr",
          "text": [
            "WARNING:absl:Compiled the loaded model, but the compiled metrics have yet to be built. `model.compile_metrics` will be empty until you train or evaluate the model.\n"
          ]
        },
        {
          "output_type": "stream",
          "name": "stdout",
          "text": [
            "\u001b[1m313/313\u001b[0m \u001b[32m━━━━━━━━━━━━━━━━━━━━\u001b[0m\u001b[37m\u001b[0m \u001b[1m1s\u001b[0m 1ms/step - accuracy: 0.9723 - loss: 0.0919\n",
            "Test accuracy on clean images: 0.9757999777793884\n"
          ]
        }
      ],
      "source": [
        "import tensorflow as tf\n",
        "from tensorflow.keras.datasets import mnist\n",
        "from tensorflow.keras.utils import to_categorical\n",
        "# Загрузка тестовых данных MNIST\n",
        "(_, _), (test_images, test_labels) = mnist.load_data()\n",
        "# Нормализация данных\n",
        "test_images = test_images / 255.0\n",
        "# Загрузка обученной модели\n",
        "model = tf.keras.models.load_model('/content/drive/MyDrive/Colab Notebooks/CollabFiles/mnist_model.h5')\n",
        "test_labels = to_categorical(test_labels, num_classes=10)\n",
        "# Проверка точности модели на обычных данных\n",
        "test_loss, test_acc = model.evaluate(test_images, test_labels)\n",
        "print(f'Test accuracy on clean images: {test_acc}')"
      ]
    },
    {
      "cell_type": "code",
      "source": [
        "import numpy as np\n",
        "import tensorflow as tf\n",
        "import matplotlib.pyplot as plt\n",
        "\n",
        "# Функция для реализации FGSM атаки\n",
        "def fgsm_attack(image, epsilon, gradient):\n",
        "    # Применение знака градиента к изображению\n",
        "    perturbed_image = image + epsilon * np.sign(gradient)\n",
        "    # Обрезка значений, чтобы они оставались в пределах [0,1]\n",
        "    perturbed_image = np.clip(perturbed_image, 0, 1)\n",
        "    return perturbed_image\n",
        "\n",
        "# Функция для генерации противоречивого примера\n",
        "def generate_adversarial_example(model, image, label, epsilon):\n",
        "    # Превращение изображения в формат, подходящий для модели\n",
        "    image = tf.convert_to_tensor(image.reshape((1, 28, 28, 1)), dtype=tf.float32)\n",
        "    label = tf.convert_to_tensor([label], dtype=tf.int32)  # Преобразуем метку в массив с индексом класса\n",
        "\n",
        "    with tf.GradientTape() as tape:\n",
        "        tape.watch(image)\n",
        "        prediction = model(image)\n",
        "        loss = tf.keras.losses.sparse_categorical_crossentropy(label, prediction)\n",
        "\n",
        "    # Получение градиента по отношению к входному изображению\n",
        "    gradient = tape.gradient(loss, image)\n",
        "\n",
        "    # Применение FGSM\n",
        "    adversarial_image = fgsm_attack(image.numpy(), epsilon, gradient.numpy())\n",
        "    return adversarial_image\n",
        "\n",
        "# Пример использования\n",
        "epsilon = 0.1\n",
        "adversarial_example = generate_adversarial_example(model, test_images[0], test_labels[0], epsilon)\n",
        "\n",
        "# Вывод результатов\n",
        "plt.figure()\n",
        "plt.subplot(1, 2, 1)\n",
        "plt.title(\"Оригинальное изображение\")\n",
        "plt.imshow(test_images[0].reshape(28, 28), cmap=\"gray\")\n",
        "plt.subplot(1, 2, 2)\n",
        "plt.title(\"Противоречивое изображение\")\n",
        "plt.imshow(adversarial_example.reshape(28, 28), cmap=\"gray\")\n",
        "plt.show()"
      ],
      "metadata": {
        "colab": {
          "base_uri": "https://localhost:8080/",
          "height": 308
        },
        "id": "rqilnSKnjd_g",
        "outputId": "d757456f-e820-4df8-98d6-7c121535aeea"
      },
      "execution_count": null,
      "outputs": [
        {
          "output_type": "display_data",
          "data": {
            "text/plain": [
              "<Figure size 640x480 with 2 Axes>"
            ],
            "image/png": "[encoded data removed]"
          },
          "metadata": {}
        }
      ]
    },
    {
      "cell_type": "code",
      "source": [
        "# Генерация противоречивых примеров для всего набора данных\n",
        "def generate_adversarial_dataset(model, images, labels, epsilon):\n",
        "  adversarial_images = []\n",
        "  for i in range(len(images)):\n",
        "    adv_image = generate_adversarial_example(model, images[i], labels[i], epsilon)\n",
        "    adversarial_images.append(adv_image.squeeze())\n",
        "\n",
        "  adversarial_images = np.array(adversarial_images, dtype=np.float32)\n",
        "  adversarial_images = tf.convert_to_tensor(adversarial_images, dtype=tf.float32)\n",
        "  adversarial_images = tf.convert_to_tensor(adversarial_images, dtype=tf.float32)\n",
        "  return adversarial_images\n",
        "\n",
        "\n",
        "adversarial_images = generate_adversarial_dataset(model, test_images, test_labels, epsilon)\n",
        "adversarial_loss, adversarial_acc = model.evaluate(adversarial_images, to_categorical(test_labels, num_classes=10))\n",
        "print(f'Accuracy on adversarial examples: {adversarial_acc}')"
      ],
      "metadata": {
        "colab": {
          "base_uri": "https://localhost:8080/"
        },
        "id": "yRIcXAsnscTD",
        "outputId": "36f9c92a-e2a0-49f6-d3a0-fd4f79e361b7"
      },
      "execution_count": null,
      "outputs": [
        {
          "output_type": "stream",
          "name": "stdout",
          "text": [
            "\u001b[1m313/313\u001b[0m \u001b[32m━━━━━━━━━━━━━━━━━━━━\u001b[0m\u001b[37m\u001b[0m \u001b[1m1s\u001b[0m 2ms/step - accuracy: 0.0794 - loss: 6.7191\n",
            "Accuracy on adversarial examples: 0.10570000112056732\n"
          ]
        }
      ]
    },
    {
      "cell_type": "markdown",
      "source": [
        "Вывод: после применениея атаки FGSM на модель искусственного интеллекта ее точность снизилась с 98% до 11%."
      ],
      "metadata": {
        "id": "EN7SptcEF8ae"
      }
    }
  ]
}